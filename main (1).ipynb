{
 "cells": [
  {
   "cell_type": "markdown",
   "id": "canadian-philadelphia",
   "metadata": {
    "id": "canadian-philadelphia"
   },
   "source": [
    "#### We have been given a data which is a subset of a bigger dataset which was collected by Buffalo Tax department. It contains information regarding the various properties in Buffalo.\n",
    "\n",
    "Number of Instances: 92508\n",
    "\n",
    "Number of Attributes: 16 (including the target variable)\n",
    "\n",
    "Attribute Information:\n",
    "\n",
    "| Column Name                | Description                                                                                                                                      | Type        |\n",
    "|----------------------------|--------------------------------------------------------------------------------------------------------------------------------------------------|-------------|\n",
    "| TOTAL VALUE                | The combined assessed value of the land and improvements on the parcel                                                                           | Number      |\n",
    "| FRONT                      | The width of the front of property (in feet)                                                                                                     | Number      |\n",
    "| DEPTH                      | The depth of the property (in feet)                                                                                                              | Number      |\n",
    "| PROPERTY CLASS             | Property Type Classification Codes describe the primary use of each parcel of real property on the assessment roll                               | Number      |\n",
    "| LAND VALUE                 | The assessed value of the land                                                                                                                   | Number      |\n",
    "| SALE PRICE                 | The price that the parcel of real property was last sold for                                                                                     | Number      |\n",
    "| YEAR BUILT                 | The year the primary building on the parcel was built                                                                                            | Number      |\n",
    "| TOTAL LIVING AREA          | The amount of living space (in square feet)                                                                                                      | Number      |\n",
    "| OVERALL CONDITION          | A grade of the condition of the property                                                                                                         | Number      |\n",
    "| BUILDING STYLE             | A code for the style of building                                                                                                                 | Number      |\n",
    "| HEAT TYPE                  | The type of heating system in the building (only applicable to residential properties)                                                           | Number      |\n",
    "| BASEMENT TYPE              | The type of basement on the property (only applicable to residential properties)                                                                 | Number      |\n",
    "| # OF STORIES               | The number of floors/Stories in the property                                                                                                     | Number      |\n",
    "| # OF FIREPLACES            | The number of fireplaces in a dwelling (only applicable to residential properties)                                                               | Number      |\n",
    "| # OF BEDS                  | The number of beds in a dwelling (only applicable to residential properties)                                                                     | Number      |\n",
    "| # OF BATHS                 | The number of baths in a dwelling (only applicable to residential properties)                                                                    | Number      |\n",
    "| # OF KITCHENS              | The number of kitchens in a dwelling (only applicable to residential properties)                                                                 | Number      |\n",
    "\n",
    "\n",
    "\n",
    "There are no missing Attribute Values.\n",
    "\n",
    "Your task is to implement a Linear Regression Model to predict the TOTAL VALUE of a property"
   ]
  },
  {
   "cell_type": "code",
   "execution_count": 193,
   "id": "planned-perry",
   "metadata": {
    "id": "planned-perry"
   },
   "outputs": [],
   "source": [
    "# imports\n",
    "import pandas as pd\n",
    "import numpy as np\n",
    "from sklearn.model_selection import train_test_split\n",
    "import matplotlib.pyplot as plt\n",
    "\n",
    "%matplotlib inline"
   ]
  },
  {
   "cell_type": "markdown",
   "id": "traditional-tissue",
   "metadata": {
    "id": "traditional-tissue"
   },
   "source": [
    "#### STEP 1 - Load Data (Already Done)"
   ]
  },
  {
   "cell_type": "code",
   "execution_count": 194,
   "id": "measured-report",
   "metadata": {
    "id": "measured-report"
   },
   "outputs": [],
   "source": [
    "# loads csv file into pandas dataframe\n",
    "df = pd.read_csv('data.csv', dtype=np.float64)"
   ]
  },
  {
   "cell_type": "code",
   "execution_count": 195,
   "id": "preliminary-wireless",
   "metadata": {
    "id": "preliminary-wireless"
   },
   "outputs": [],
   "source": [
    "# takes out total value column (target) and flattens it as as numpy array\n",
    "y = np.asarray(df['TOTAL VALUE'] )\n",
    "y = y.reshape(y.shape[0],1)\n",
    "# converts column names to a list and removes target column\n",
    "feature_cols = df.columns.to_list()\n",
    "feature_cols.remove('TOTAL VALUE')\n",
    "# indexes the dataframe to get just the feature columns then turns it into a numpy array\n",
    "x = np.asarray(df[feature_cols])"
   ]
  },
  {
   "cell_type": "markdown",
   "id": "available-picnic",
   "metadata": {
    "id": "available-picnic"
   },
   "source": [
    "Variable **y** contains the total values of the property\n",
    "\n",
    "Variable **x** contains the features"
   ]
  },
  {
   "cell_type": "markdown",
   "id": "twelve-skill",
   "metadata": {
    "id": "twelve-skill"
   },
   "source": [
    "#### STEP 2 - \n",
    "Split the Data into training and testing and validation split \n",
    "\n",
    "( 70% Training, 20% Testing and 10% validation) \n",
    "\n",
    "Hint: you can use the sklearn library for this step only\n",
    "\n",
    "The train_test split function is already imported earlier in the notebook\n",
    "\n",
    "( 5 Points)"
   ]
  },
  {
   "cell_type": "code",
   "execution_count": 196,
   "id": "downtown-antarctica",
   "metadata": {
    "id": "downtown-antarctica"
   },
   "outputs": [],
   "source": [
    "#STEP 2\n",
    "X_train, X_rem, y_train, y_rem = train_test_split(x,y, test_size=0.3) #splitting the data into 70% train\n",
    "X_valid, X_test, y_valid, y_test = train_test_split(X_rem,y_rem, test_size=0.667) #remaining 30% is split into validation and test"
   ]
  },
  {
   "cell_type": "markdown",
   "id": "theoretical-allergy",
   "metadata": {
    "id": "theoretical-allergy"
   },
   "source": [
    "#### STEP 3 - Scale Data Using Min Max Scaler (10 Points)\n",
    "For each feature scaled value can be calculated using $  x_{scaled} = \\frac{x - min(x)}{max(x) - min(x)}$\n",
    "\n",
    "You can write everything in the cell below or add more cells as needed especially if you want to write a helper function which you use to do this"
   ]
  },
  {
   "cell_type": "code",
   "execution_count": 198,
   "id": "civilian-lounge",
   "metadata": {
    "id": "civilian-lounge"
   },
   "outputs": [],
   "source": [
    "#STEP 3\n",
    "#Finding the min max scaler\n",
    "def minmax_scaler(feature):\n",
    "    feature_scaled = (feature - feature.min())/ (feature.max() - feature.min()) \n",
    "    return feature_scaled\n",
    "\n",
    "train_data_scaled = np.empty(X_train.shape)\n",
    "val_data_scaled = np.empty(X_valid.shape)\n",
    "test_data_scaled = np.empty(X_test.shape)\n",
    "\n",
    "#Scaling train data, test data and validation data\n",
    "for i in range(15):\n",
    "    train_data_scaled[:, i] = np.apply_along_axis(minmax_scaler, 0, X_train[:,i])\n",
    "    val_data_scaled[:, i] = np.apply_along_axis(minmax_scaler, 0, X_valid[:,i])\n",
    "    test_data_scaled[:, i] = np.apply_along_axis(minmax_scaler, 0, X_test[:,i])\n",
    "    "
   ]
  },
  {
   "cell_type": "markdown",
   "id": "prostate-disney",
   "metadata": {
    "id": "prostate-disney"
   },
   "source": [
    "#### STEP 4 - Initialize values for the weights, No. of Epochs and Learning Rate (5 Points)"
   ]
  },
  {
   "cell_type": "code",
   "execution_count": 199,
   "id": "absolute-associate",
   "metadata": {
    "id": "absolute-associate"
   },
   "outputs": [],
   "source": [
    "#STEP 4\n",
    "#Intializing values for the weights, No. of Epochs and Learning Rate\n",
    "import random\n",
    "random.seed(123)\n",
    "bias = np.random.normal(1)\n",
    "w = np.random.normal(0,1,15)\n",
    "epoch = 1000\n",
    "L = 0.1"
   ]
  },
  {
   "cell_type": "markdown",
   "id": "moved-parking",
   "metadata": {
    "id": "moved-parking"
   },
   "source": [
    "#### STEP 5 - Train Linear Regression Model (40 Points)\n",
    " 5.1 Start a Loop For each Epoch\n",
    " \n",
    " 5.2 Find the predicted value using $ y(x,w) = w_0 + w_1x $ for the training and validation splits (10 Points)\n",
    " \n",
    " 5.3 Find the Loss using Mean Squared Error for the training and validation splits and store in a list (10 Points)\n",
    " \n",
    " 5.4 Calculate the Gradients (15 Points)\n",
    " \n",
    " 5.5 Update the weights using the gradients (5 Points)"
   ]
  },
  {
   "cell_type": "code",
   "execution_count": null,
   "id": "13f170f8",
   "metadata": {},
   "outputs": [],
   "source": []
  },
  {
   "cell_type": "code",
   "execution_count": 200,
   "id": "31c7f8f0",
   "metadata": {},
   "outputs": [],
   "source": [
    "def prediction(weight, b, x): #prediction of y for a given set of weight, bias and input variable, x\n",
    "    n1 = x.shape[0]\n",
    "    y_pred = np.zeros(shape=(n1,1))\n",
    "    for i in range(15):\n",
    "        y_pred = y_pred + (w[i]*x[:,i].reshape(n1,1))\n",
    "    y_pred = y_pred + b    \n",
    "    return y_pred"
   ]
  },
  {
   "cell_type": "code",
   "execution_count": 201,
   "id": "abe21ed7",
   "metadata": {},
   "outputs": [],
   "source": [
    "def gradient_w(y, y_predicted, x): #Derivatives of loss w.r.t weights except bias\n",
    "    s=0\n",
    "    n=x.shape[0]\n",
    "    for i in range(n):\n",
    "        s+=-x[i, :]*(y[i]-y_predicted[i])\n",
    "    return (2/n)*s"
   ]
  },
  {
   "cell_type": "code",
   "execution_count": 202,
   "id": "7f020b2d",
   "metadata": {},
   "outputs": [],
   "source": [
    "def gradient_bias(y,y_predicted): #Derivatives of loss w.r.t bias \n",
    "    n=x.shape[0]\n",
    "    s=0\n",
    "    for i in range(len(y)):\n",
    "        s+=-(y[i]-y_predicted[i])\n",
    "    return (2/n)*s"
   ]
  },
  {
   "cell_type": "code",
   "execution_count": 203,
   "id": "e0899f7b",
   "metadata": {},
   "outputs": [],
   "source": [
    "def loss_fn(y, y_predicted): #calculating loss function for a given y and it's prediction using Mean squared error formula\n",
    "    n=y.shape[0]\n",
    "    s= np.sum(np.square(y_predicted - y))/n\n",
    "    return s"
   ]
  },
  {
   "cell_type": "code",
   "execution_count": 204,
   "id": "b5d35134",
   "metadata": {},
   "outputs": [],
   "source": [
    "# STEP 5\n",
    "# Computing the predictions\n",
    "L_train = [] #\n",
    "L_val = []\n",
    "for i in range(epoch):    \n",
    "    y_pred_train = prediction(w, bias, train_data_scaled) #prediction for training data\n",
    "    y_pred_val = prediction(w, bias, val_data_scaled) #prediction for validation data\n",
    "    y_pred_test = prediction(w, bias, test_data_scaled) #prediction for test data\n",
    "    L_train.append(loss_fn(y_train, y_pred_train)) #Loss using Mean Squared Error for the training and stored in a list \n",
    "    L_val.append(loss_fn(y_valid, y_pred_val)) #Loss using Mean Squared Error for the validation split and stored in a list     \n",
    "    w = w - L *gradient_w(y_train, y_pred_train, train_data_scaled)  #calculating gradient wrt w and updating weight\n",
    "    bias = bias - L * gradient_bias(y_train, y_pred_train)  #calculating gradient wrt bias and updating bias\n",
    "    "
   ]
  },
  {
   "cell_type": "markdown",
   "id": "fuzzy-prairie",
   "metadata": {
    "id": "fuzzy-prairie"
   },
   "source": [
    "#### STEP 6 - Evaluate the Model ( 25 Points)\n",
    "6.1 Plot a graph of the Training and Validation Loss with respect to epochs \n",
    "\n",
    "Matplotlib would definitely be useful for this and is imported for you already\n",
    "\n",
    "(10 Points)\n",
    "\n",
    "6.2 Find the R2 Score of the trained model for the Train, Test and Validation splits (15 Points)"
   ]
  },
  {
   "cell_type": "code",
   "execution_count": 206,
   "id": "outstanding-jewel",
   "metadata": {
    "id": "outstanding-jewel"
   },
   "outputs": [
    {
     "name": "stdout",
     "output_type": "stream",
     "text": [
      "0.01650095524382899\n",
      "0.012049352609164959\n",
      "0.06348450642938057\n"
     ]
    },
    {
     "data": {
      "image/png": "[encoded data removed]",
      "text/plain": [
       "<Figure size 432x288 with 2 Axes>"
      ]
     },
     "metadata": {
      "needs_background": "light"
     },
     "output_type": "display_data"
    }
   ],
   "source": [
    "# STEP 6\n",
    "fig, ax1 = plt.subplots() \n",
    "ax2 = ax1.twinx()\n",
    "\n",
    "ax1.plot(L_train, color='black') #Plotting a graph of the Training Loss with respect to epochs\n",
    "ax2.plot(L_val, color='red') #Plotting a graph of the Validation Loss with respect to epochs\n",
    "\n",
    "def R_square(y_cap, y, b, weight): #defining R squared formula which is SST divided by SSR \n",
    "    SSR = np.sum(np.square(y_cap - y.mean())) #the total sum of squares\n",
    "    SST = np.sum(np.square(y - y.mean())) #the total sum of squares of residuals    \n",
    "    score  = SSR/SST\n",
    "    return score\n",
    "\n",
    "R2_train = R_square(y_pred_train, y_train, bias, w) \n",
    "R2_test = R_square(y_pred_val, y_test, bias, w)\n",
    "R2_val = R_square(y_pred_test, y_valid, bias, w)\n",
    "\n",
    "print(R2_train) #R2 Score of the trained model for the Train split\n",
    "print(R2_test) #R2 Score of the trained model Test split\n",
    "print(R2_val) #R2 Score of the trained model for the Validation split"
   ]
  },
  {
   "cell_type": "markdown",
   "id": "gVM5_0s7AAGU",
   "metadata": {
    "id": "gVM5_0s7AAGU"
   },
   "source": [
    "## Useful Library references\n",
    "\n",
    "  [test_train_split function](https://scikit-learn.org/stable/modules/generated/sklearn.model_selection.train_test_split.html#sklearn.model_selection.train_test_split)\n",
    "\n",
    "\n",
    "[Matplotlib Documentation](https://matplotlib.org/)\n"
   ]
  }
 ],
 "metadata": {
  "colab": {
   "name": "main.ipynb",
   "provenance": []
  },
  "kernelspec": {
   "display_name": "Python 3",
   "language": "python",
   "name": "python3"
  },
  "language_info": {
   "codemirror_mode": {
    "name": "ipython",
    "version": 3
   },
   "file_extension": ".py",
   "mimetype": "text/x-python",
   "name": "python",
   "nbconvert_exporter": "python",
   "pygments_lexer": "ipython3",
   "version": "3.8.8"
  }
 },
 "nbformat": 4,
 "nbformat_minor": 5
}
